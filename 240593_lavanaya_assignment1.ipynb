{
  "nbformat": 4,
  "nbformat_minor": 0,
  "metadata": {
    "colab": {
      "provenance": [],
      "authorship_tag": "ABX9TyODLt5PzWvJcsob6unjtIAD",
      "include_colab_link": true
    },
    "kernelspec": {
      "name": "python3",
      "display_name": "Python 3"
    },
    "language_info": {
      "name": "python"
    }
  },
  "cells": [
    {
      "cell_type": "markdown",
      "metadata": {
        "id": "view-in-github",
        "colab_type": "text"
      },
      "source": [
        "<a href=\"https://colab.research.google.com/github/lavanaya10/-lavanaya10-Joined-3-minutes-ago-Find-a-repository-Awesome_Robotics_Club_-lavanaya-240593-/blob/main/240593_lavanaya_assignment1.ipynb\" target=\"_parent\"><img src=\"https://colab.research.google.com/assets/colab-badge.svg\" alt=\"Open In Colab\"/></a>"
      ]
    },
    {
      "cell_type": "code",
      "execution_count": 4,
      "metadata": {
        "colab": {
          "base_uri": "https://localhost:8080/"
        },
        "id": "kipfqzlFhElP",
        "outputId": "e5dba423-49f1-41fd-d2fd-11a3c2de5adf"
      },
      "outputs": [
        {
          "output_type": "stream",
          "name": "stdout",
          "text": [
            "[10 11 12 13 14 15 16 17 18 19 20 21 22 23 24 25 26 27 28 29 30 31 32 33\n",
            " 34 35 36 37 38 39 40 41 42 43 44 45 46 47 48 49 50]\n",
            "[[10 11 12 13 14]\n",
            " [15 16 17 18 19]\n",
            " [20 21 22 23 24]\n",
            " [25 26 27 28 29]]\n",
            "[[10. 11. 12. 13. 14.]\n",
            " [15. 16. 17. 18. 19.]\n",
            " [20. 21. 22. 23. 24.]\n",
            " [25. 26. 27. 28. 29.]]\n"
          ]
        }
      ],
      "source": [
        "#task1.1 task1.2 task1.3\n",
        "\n",
        "arr = np.arange(10, 51)\n",
        "print(arr)\n",
        "import numpy as np\n",
        "\n",
        "newarr = np.arange(10, 30)      # 20 elements\n",
        "matrix = newarr.reshape(4, 5)   # reshape to 4 rows, 5 columns\n",
        "print(matrix)\n",
        "\n",
        "y=np.zeros((4,5))\n",
        "z= matrix+y\n",
        "print(z)\n"
      ]
    },
    {
      "cell_type": "code",
      "source": [
        "import numpy as np\n",
        "\n",
        "arr=np.arange(0,10,0.02)\n",
        "print(arr)\n",
        "print(arr.size)\n",
        "newarr=np.split(arr,2)\n",
        "print(newarr)\n"
      ],
      "metadata": {
        "id": "WDMB3DvoiceQ"
      },
      "execution_count": null,
      "outputs": []
    },
    {
      "cell_type": "code",
      "source": [
        "\n",
        "import numpy as np\n",
        "\n",
        "arr=np.ones((3,3))\n",
        "\n",
        "print(arr)"
      ],
      "metadata": {
        "id": "bOK3YBK7kxLh"
      },
      "execution_count": null,
      "outputs": []
    },
    {
      "cell_type": "code",
      "source": [
        "from numpy import random\n",
        "arr=random.randint( 100, size=(3,3))\n",
        "print(arr)"
      ],
      "metadata": {
        "id": "m7gcSYEvkyeT"
      },
      "execution_count": null,
      "outputs": []
    },
    {
      "cell_type": "code",
      "source": [
        "import numpy as np\n",
        "from numpy import random\n",
        "\n",
        "arr=random.randint( 100, size=(3,3))\n",
        "\n",
        "add=arr +arr\n",
        "print(add) #sumofarr\n",
        "sub=arr-arr\n",
        "print(sub)  #subtraction\n",
        "mult= np.dot(arr,arr) #multiplication\n",
        "\n",
        "print(mult)\n",
        "\n",
        "sumelements=np.sum(arr)\n",
        "print(sumelements)   #sum without trasverse\n",
        "average=np.mean(arr) #mean\n",
        "print(average)\n",
        "sumtrans=sum(np.nditer(arr))\n",
        "print(sumtrans) #sum using traversal"
      ],
      "metadata": {
        "colab": {
          "base_uri": "https://localhost:8080/"
        },
        "id": "uCcAv_XZlcFo",
        "outputId": "8e89b598-b227-45e5-be7f-65ea1922ce9c"
      },
      "execution_count": 7,
      "outputs": [
        {
          "output_type": "stream",
          "name": "stdout",
          "text": [
            "[[116 122  30]\n",
            " [130  16  58]\n",
            " [ 58  78  94]]\n",
            "[[0 0 0]\n",
            " [0 0 0]\n",
            " [0 0 0]]\n",
            "[[7764 4611 3344]\n",
            " [5131 5160 2570]\n",
            " [5580 3914 3775]]\n",
            "351\n",
            "39.0\n",
            "351\n"
          ]
        }
      ]
    },
    {
      "cell_type": "code",
      "source": [
        "#task2\n",
        "import pandas as pd\n",
        "import numpy as np\n",
        "\n",
        "data = {\n",
        "    'Roll No.': [2301, 2310, 2302, 2304, 2306, 2305, 2307, 2312, 2315, 2316, 2320, 2308, 2309, 2314, 2319],\n",
        "    'Name': ['Alice', 'Smith', 'Bob', 'Charlie', 'Eric', 'Diana', 'John', 'Joey', 'Bean', 'Charlie', 'Jack', 'Jill', 'George', 'Tabitha', 'Phoebe'],\n",
        "    'Age': [24, np.nan, 22, 23, np.nan, 24, 23, 30, 26, 23, 22, 21, 24, 31, 24],\n",
        "    'Marks': [85, np.nan, 78, 92, 95, 88, np.nan, 64, 72, 92, 83, 69, 89, 100, 91]\n",
        "}\n",
        "\n",
        "df = pd.DataFrame(data)\n",
        "\n",
        "print(df)\n",
        "#task2.2\n",
        "print(df.describe())\n",
        "\n",
        "print(df.Marks) #task2.3\n",
        "\n",
        "print(df.loc[1])#task2.4\n",
        "\n",
        "markshigh = df[df['Marks'] > 80] #task 2.5\n",
        "\n",
        "print(markshigh)\n",
        "#task 2.6\n",
        "def grade(mark):\n",
        "    if pd.isna(mark):\n",
        "        print(\"No Grade\")\n",
        "    elif mark > 85:\n",
        "        print(\"A\")\n",
        "    elif mark > 75:\n",
        "       print(\"B\")\n",
        "    else:\n",
        "         print(\"C\")\n",
        "\n",
        "# Apply the function to the 'Marks' column\n",
        "df[\"Grade\"] = df[\"Marks\"].apply(grade)\n",
        "\n",
        "print(df[[\"Name\", \"Marks\", \"Grade\"]])\n",
        "\n",
        "df['Age'].mode()\n",
        "#task 2.7\n",
        "df.rename(columns={'Marks': 'Score'}, inplace=True)\n",
        "\n",
        "df.fillna({\"age\":24} , inplace=True) #task2.8\n",
        "df.fillna({\"Marks\":84.1456} , inplace=True)\n",
        "\n",
        "print(df.duplicated()) #task 2.9\n",
        "\n",
        "\n",
        "sortdf = df.sort_values(by='Age', ascending=True)\n",
        "\n",
        "# Print the sorted DataFrame\n",
        "print(sortdf)\n",
        "\n",
        "\n",
        "\n",
        "\n",
        "\n"
      ],
      "metadata": {
        "colab": {
          "base_uri": "https://localhost:8080/"
        },
        "id": "WlRRROLEndCz",
        "outputId": "a7969ab2-eeef-43ec-e3e1-4c6607c5db93"
      },
      "execution_count": 26,
      "outputs": [
        {
          "output_type": "stream",
          "name": "stdout",
          "text": [
            "    Roll No.     Name   Age  Marks\n",
            "0       2301    Alice  24.0   85.0\n",
            "1       2310    Smith   NaN    NaN\n",
            "2       2302      Bob  22.0   78.0\n",
            "3       2304  Charlie  23.0   92.0\n",
            "4       2306     Eric   NaN   95.0\n",
            "5       2305    Diana  24.0   88.0\n",
            "6       2307     John  23.0    NaN\n",
            "7       2312     Joey  30.0   64.0\n",
            "8       2315     Bean  26.0   72.0\n",
            "9       2316  Charlie  23.0   92.0\n",
            "10      2320     Jack  22.0   83.0\n",
            "11      2308     Jill  21.0   69.0\n",
            "12      2309   George  24.0   89.0\n",
            "13      2314  Tabitha  31.0  100.0\n",
            "14      2319   Phoebe  24.0   91.0\n",
            "          Roll No.        Age       Marks\n",
            "count    15.000000  13.000000   13.000000\n",
            "mean   2309.866667  24.384615   84.461538\n",
            "std       5.962582   2.987152   10.798267\n",
            "min    2301.000000  21.000000   64.000000\n",
            "25%    2305.500000  23.000000   78.000000\n",
            "50%    2309.000000  24.000000   88.000000\n",
            "75%    2314.500000  24.000000   92.000000\n",
            "max    2320.000000  31.000000  100.000000\n",
            "0      85.0\n",
            "1       NaN\n",
            "2      78.0\n",
            "3      92.0\n",
            "4      95.0\n",
            "5      88.0\n",
            "6       NaN\n",
            "7      64.0\n",
            "8      72.0\n",
            "9      92.0\n",
            "10     83.0\n",
            "11     69.0\n",
            "12     89.0\n",
            "13    100.0\n",
            "14     91.0\n",
            "Name: Marks, dtype: float64\n",
            "Roll No.     2310\n",
            "Name        Smith\n",
            "Age           NaN\n",
            "Marks         NaN\n",
            "Name: 1, dtype: object\n",
            "    Roll No.     Name   Age  Marks\n",
            "0       2301    Alice  24.0   85.0\n",
            "3       2304  Charlie  23.0   92.0\n",
            "4       2306     Eric   NaN   95.0\n",
            "5       2305    Diana  24.0   88.0\n",
            "9       2316  Charlie  23.0   92.0\n",
            "10      2320     Jack  22.0   83.0\n",
            "12      2309   George  24.0   89.0\n",
            "13      2314  Tabitha  31.0  100.0\n",
            "14      2319   Phoebe  24.0   91.0\n",
            "B\n",
            "No Grade\n",
            "B\n",
            "A\n",
            "A\n",
            "A\n",
            "No Grade\n",
            "C\n",
            "C\n",
            "A\n",
            "B\n",
            "C\n",
            "A\n",
            "A\n",
            "A\n",
            "       Name  Marks Grade\n",
            "0     Alice   85.0  None\n",
            "1     Smith    NaN  None\n",
            "2       Bob   78.0  None\n",
            "3   Charlie   92.0  None\n",
            "4      Eric   95.0  None\n",
            "5     Diana   88.0  None\n",
            "6      John    NaN  None\n",
            "7      Joey   64.0  None\n",
            "8      Bean   72.0  None\n",
            "9   Charlie   92.0  None\n",
            "10     Jack   83.0  None\n",
            "11     Jill   69.0  None\n",
            "12   George   89.0  None\n",
            "13  Tabitha  100.0  None\n",
            "14   Phoebe   91.0  None\n",
            "0     False\n",
            "1     False\n",
            "2     False\n",
            "3     False\n",
            "4     False\n",
            "5     False\n",
            "6     False\n",
            "7     False\n",
            "8     False\n",
            "9     False\n",
            "10    False\n",
            "11    False\n",
            "12    False\n",
            "13    False\n",
            "14    False\n",
            "dtype: bool\n",
            "    Roll No.     Name   Age  Score Grade\n",
            "11      2308     Jill  21.0   69.0  None\n",
            "2       2302      Bob  22.0   78.0  None\n",
            "10      2320     Jack  22.0   83.0  None\n",
            "3       2304  Charlie  23.0   92.0  None\n",
            "9       2316  Charlie  23.0   92.0  None\n",
            "6       2307     John  23.0    NaN  None\n",
            "5       2305    Diana  24.0   88.0  None\n",
            "0       2301    Alice  24.0   85.0  None\n",
            "12      2309   George  24.0   89.0  None\n",
            "14      2319   Phoebe  24.0   91.0  None\n",
            "8       2315     Bean  26.0   72.0  None\n",
            "7       2312     Joey  30.0   64.0  None\n",
            "13      2314  Tabitha  31.0  100.0  None\n",
            "1       2310    Smith   NaN    NaN  None\n",
            "4       2306     Eric   NaN   95.0  None\n"
          ]
        }
      ]
    },
    {
      "cell_type": "code",
      "source": [
        "#TASK 3\n",
        "import matplotlib.pyplot as plt\n",
        "import numpy as np\n",
        "plt.plot(df['Age'], df['Score'], marker='o')\n",
        "\n",
        "\n",
        "plt.title('Marks vs Age')\n",
        "plt.xlabel('Age')\n",
        "plt.ylabel('Marks')\n",
        "\n",
        "\n",
        "plt.show()\n"
      ],
      "metadata": {
        "colab": {
          "base_uri": "https://localhost:8080/",
          "height": 472
        },
        "id": "aLuL7a2F7apv",
        "outputId": "ae2a695f-500e-4483-9061-c375f474bacd"
      },
      "execution_count": 27,
      "outputs": [
        {
          "output_type": "display_data",
          "data": {
            "text/plain": [
              "<Figure size 640x480 with 1 Axes>"
            ],
            "image/png": "[encoded data removed]"
          },
          "metadata": {}
        }
      ]
    },
    {
      "cell_type": "code",
      "source": [
        "\n",
        "\n",
        "gradenumbers = df['Grade'].value_counts()\n",
        "\n",
        "\n",
        "plt.pie(gradenumbers, labels=gradenumbers.index, autopct='%1.1f%%', startangle=90, colors=['r', 'b', 'y', 'g'])\n",
        "\n",
        "\n",
        "plt.title('Percentage of Grades')\n",
        "\n",
        "\n",
        "plt.show()\n"
      ],
      "metadata": {
        "colab": {
          "base_uri": "https://localhost:8080/",
          "height": 428
        },
        "id": "_eJ0s1OX_4jO",
        "outputId": "d5b9ef04-e26c-4388-bd95-ac38d9b67211"
      },
      "execution_count": 33,
      "outputs": [
        {
          "output_type": "display_data",
          "data": {
            "text/plain": [
              "<Figure size 640x480 with 1 Axes>"
            ],
            "image/png": "[encoded data removed]"
          },
          "metadata": {}
        }
      ]
    },
    {
      "cell_type": "code",
      "source": [
        "plt.hist(df['Age'], bins=8, edgecolor='black', color='blue')\n",
        "\n",
        "\n",
        "plt.title('Age Distribution of Students')\n",
        "plt.xlabel('Age')\n",
        "plt.ylabel('Number of Students')\n",
        "\n",
        "\n",
        "plt.show()"
      ],
      "metadata": {
        "colab": {
          "base_uri": "https://localhost:8080/",
          "height": 472
        },
        "id": "cxiEb4orAPuD",
        "outputId": "ed3f9d61-12b1-4d74-a86c-21a075124ade"
      },
      "execution_count": 32,
      "outputs": [
        {
          "output_type": "display_data",
          "data": {
            "text/plain": [
              "<Figure size 640x480 with 1 Axes>"
            ],
            "image/png": "[encoded data removed]"
          },
          "metadata": {}
        }
      ]
    }
  ]
}